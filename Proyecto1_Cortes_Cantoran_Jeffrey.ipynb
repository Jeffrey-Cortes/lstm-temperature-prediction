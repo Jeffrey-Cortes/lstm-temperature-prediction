{
 "cells": [
  {
   "cell_type": "code",
   "execution_count": 17,
   "id": "9a57d692-a0f4-4b46-ab9f-cd0e835ee2dc",
   "metadata": {},
   "outputs": [],
   "source": [
    "# Importamos las librerías que necesitaremos a lo largo del código\n",
    "import numpy as np\n",
    "import pandas as pd\n",
    "import matplotlib.pyplot as plt \n",
    "import seaborn as sns\n",
    "sns.set_style(\"whitegrid\")\n",
    "import plotly.express as px\n",
    "import plotly.io as pio \n",
    "import plotly.graph_objects as go \n",
    "import math \n",
    "from datetime import timedelta \n",
    "\n",
    "from sklearn.preprocessing import MinMaxScaler \n",
    "from sklearn.model_selection import train_test_split \n",
    "from sklearn.metrics import mean_squared_error , mean_absolute_error \n",
    "\n",
    "import keras \n",
    "from keras.layers import Dense, Dropout, LSTM\n",
    "from keras.models import Sequential \n",
    "from keras.callbacks import EarlyStopping "
   ]
  },
  {
   "cell_type": "markdown",
   "id": "280d9307-9eed-44fe-8181-c72656159414",
   "metadata": {},
   "source": [
    "### Visualización (EDA)"
   ]
  },
  {
   "cell_type": "code",
   "execution_count": 18,
   "id": "f684c6bd-54f7-4732-bc74-afd1dc163d35",
   "metadata": {},
   "outputs": [
    {
     "data": {
      "text/html": [
       "<div>\n",
       "<style scoped>\n",
       "    .dataframe tbody tr th:only-of-type {\n",
       "        vertical-align: middle;\n",
       "    }\n",
       "\n",
       "    .dataframe tbody tr th {\n",
       "        vertical-align: top;\n",
       "    }\n",
       "\n",
       "    .dataframe thead th {\n",
       "        text-align: right;\n",
       "    }\n",
       "</style>\n",
       "<table border=\"1\" class=\"dataframe\">\n",
       "  <thead>\n",
       "    <tr style=\"text-align: right;\">\n",
       "      <th></th>\n",
       "      <th>meantemp</th>\n",
       "      <th>humidity</th>\n",
       "      <th>wind_speed</th>\n",
       "      <th>meanpressure</th>\n",
       "    </tr>\n",
       "    <tr>\n",
       "      <th>date</th>\n",
       "      <th></th>\n",
       "      <th></th>\n",
       "      <th></th>\n",
       "      <th></th>\n",
       "    </tr>\n",
       "  </thead>\n",
       "  <tbody>\n",
       "    <tr>\n",
       "      <th>2013-01-01</th>\n",
       "      <td>10.000000</td>\n",
       "      <td>84.500000</td>\n",
       "      <td>0.000000</td>\n",
       "      <td>1015.666667</td>\n",
       "    </tr>\n",
       "    <tr>\n",
       "      <th>2013-01-02</th>\n",
       "      <td>7.400000</td>\n",
       "      <td>92.000000</td>\n",
       "      <td>2.980000</td>\n",
       "      <td>1017.800000</td>\n",
       "    </tr>\n",
       "    <tr>\n",
       "      <th>2013-01-03</th>\n",
       "      <td>7.166667</td>\n",
       "      <td>87.000000</td>\n",
       "      <td>4.633333</td>\n",
       "      <td>1018.666667</td>\n",
       "    </tr>\n",
       "    <tr>\n",
       "      <th>2013-01-04</th>\n",
       "      <td>8.666667</td>\n",
       "      <td>71.333333</td>\n",
       "      <td>1.233333</td>\n",
       "      <td>1017.166667</td>\n",
       "    </tr>\n",
       "    <tr>\n",
       "      <th>2013-01-05</th>\n",
       "      <td>6.000000</td>\n",
       "      <td>86.833333</td>\n",
       "      <td>3.700000</td>\n",
       "      <td>1016.500000</td>\n",
       "    </tr>\n",
       "    <tr>\n",
       "      <th>...</th>\n",
       "      <td>...</td>\n",
       "      <td>...</td>\n",
       "      <td>...</td>\n",
       "      <td>...</td>\n",
       "    </tr>\n",
       "    <tr>\n",
       "      <th>2016-12-28</th>\n",
       "      <td>17.217391</td>\n",
       "      <td>68.043478</td>\n",
       "      <td>3.547826</td>\n",
       "      <td>1015.565217</td>\n",
       "    </tr>\n",
       "    <tr>\n",
       "      <th>2016-12-29</th>\n",
       "      <td>15.238095</td>\n",
       "      <td>87.857143</td>\n",
       "      <td>6.000000</td>\n",
       "      <td>1016.904762</td>\n",
       "    </tr>\n",
       "    <tr>\n",
       "      <th>2016-12-30</th>\n",
       "      <td>14.095238</td>\n",
       "      <td>89.666667</td>\n",
       "      <td>6.266667</td>\n",
       "      <td>1017.904762</td>\n",
       "    </tr>\n",
       "    <tr>\n",
       "      <th>2016-12-31</th>\n",
       "      <td>15.052632</td>\n",
       "      <td>87.000000</td>\n",
       "      <td>7.325000</td>\n",
       "      <td>1016.100000</td>\n",
       "    </tr>\n",
       "    <tr>\n",
       "      <th>2017-01-01</th>\n",
       "      <td>10.000000</td>\n",
       "      <td>100.000000</td>\n",
       "      <td>0.000000</td>\n",
       "      <td>1016.000000</td>\n",
       "    </tr>\n",
       "  </tbody>\n",
       "</table>\n",
       "<p>1462 rows × 4 columns</p>\n",
       "</div>"
      ],
      "text/plain": [
       "             meantemp    humidity  wind_speed  meanpressure\n",
       "date                                                       \n",
       "2013-01-01  10.000000   84.500000    0.000000   1015.666667\n",
       "2013-01-02   7.400000   92.000000    2.980000   1017.800000\n",
       "2013-01-03   7.166667   87.000000    4.633333   1018.666667\n",
       "2013-01-04   8.666667   71.333333    1.233333   1017.166667\n",
       "2013-01-05   6.000000   86.833333    3.700000   1016.500000\n",
       "...               ...         ...         ...           ...\n",
       "2016-12-28  17.217391   68.043478    3.547826   1015.565217\n",
       "2016-12-29  15.238095   87.857143    6.000000   1016.904762\n",
       "2016-12-30  14.095238   89.666667    6.266667   1017.904762\n",
       "2016-12-31  15.052632   87.000000    7.325000   1016.100000\n",
       "2017-01-01  10.000000  100.000000    0.000000   1016.000000\n",
       "\n",
       "[1462 rows x 4 columns]"
      ]
     },
     "execution_count": 18,
     "metadata": {},
     "output_type": "execute_result"
    }
   ],
   "source": [
    "df = pd.read_csv(\"DailyDelhiClimateTrain.csv\", parse_dates=True, index_col=\"date\")\n",
    "df"
   ]
  },
  {
   "cell_type": "code",
   "execution_count": 19,
   "id": "91d1a7ef-ccbb-4152-a65b-2ebafa5d26cb",
   "metadata": {},
   "outputs": [
    {
     "name": "stdout",
     "output_type": "stream",
     "text": [
      "<class 'pandas.core.frame.DataFrame'>\n",
      "DatetimeIndex: 1462 entries, 2013-01-01 to 2017-01-01\n",
      "Data columns (total 4 columns):\n",
      " #   Column        Non-Null Count  Dtype  \n",
      "---  ------        --------------  -----  \n",
      " 0   meantemp      1462 non-null   float64\n",
      " 1   humidity      1462 non-null   float64\n",
      " 2   wind_speed    1462 non-null   float64\n",
      " 3   meanpressure  1462 non-null   float64\n",
      "dtypes: float64(4)\n",
      "memory usage: 57.1 KB\n"
     ]
    }
   ],
   "source": [
    "df.info()"
   ]
  },
  {
   "cell_type": "code",
   "execution_count": 20,
   "id": "6092ca24-6931-4c13-bab2-d1d0d9659226",
   "metadata": {},
   "outputs": [
    {
     "data": {
      "text/html": [
       "<iframe\n",
       "    scrolling=\"no\"\n",
       "    width=\"1120px\"\n",
       "    height=\"520\"\n",
       "    src=\"iframe_figures/figure_20.html\"\n",
       "    frameborder=\"0\"\n",
       "    allowfullscreen\n",
       "></iframe>\n"
      ]
     },
     "metadata": {},
     "output_type": "display_data"
    }
   ],
   "source": [
    "temp = go.Scatter(x=df.index, y=df['meantemp'], mode='lines', name='Temperature')\n",
    "\n",
    "# Configuración del layout\n",
    "layout = go.Layout(\n",
    "    title='Temperatura media',\n",
    "    xaxis_title='Fecha',\n",
    "    yaxis_title='Temperatura media',\n",
    "    legend=dict(x=0, y=1.0),\n",
    "    margin=dict(l=80, r=80, t=40, b=40),\n",
    "    height=500,\n",
    "    width=1100,\n",
    ")\n",
    "# Combina los trazos y layout\n",
    "fig = go.Figure(data=temp, layout=layout)\n",
    "\n",
    "pio.renderers.default = 'iframe'\n",
    "# Visualizamos la gráfica\n",
    "pio.show(fig)"
   ]
  },
  {
   "cell_type": "code",
   "execution_count": 21,
   "id": "cbafb4ec-0e69-4370-915a-31988ec8c5b5",
   "metadata": {},
   "outputs": [
    {
     "data": {
      "text/html": [
       "<iframe\n",
       "    scrolling=\"no\"\n",
       "    width=\"1120px\"\n",
       "    height=\"520\"\n",
       "    src=\"iframe_figures/figure_21.html\"\n",
       "    frameborder=\"0\"\n",
       "    allowfullscreen\n",
       "></iframe>\n"
      ]
     },
     "metadata": {},
     "output_type": "display_data"
    }
   ],
   "source": [
    "humidity = go.Scatter(\n",
    "    x=df.index, \n",
    "    y=df['humidity'], \n",
    "    mode='lines', \n",
    "    name='Humidity',\n",
    "    line=dict(color='red')  \n",
    ")\n",
    "\n",
    "# Configuración del layout\n",
    "layout = go.Layout(\n",
    "    title='Humedad',\n",
    "    xaxis_title='Fecha',\n",
    "    yaxis_title='Humedad',\n",
    "    legend=dict(x=0, y=1.0),\n",
    "    margin=dict(l=80, r=80, t=40, b=40),\n",
    "    height=500,\n",
    "    width=1100,\n",
    ")\n",
    "# Combina los trazos y layout\n",
    "fig = go.Figure(data=[humidity], layout=layout)\n",
    "\n",
    "# Visualizamos la gráfica\n",
    "pio.show(fig)"
   ]
  },
  {
   "cell_type": "code",
   "execution_count": 42,
   "id": "3615d478-2971-4215-aac9-7d40f05e03fa",
   "metadata": {},
   "outputs": [
    {
     "data": {
      "text/html": [
       "<iframe\n",
       "    scrolling=\"no\"\n",
       "    width=\"1120px\"\n",
       "    height=\"520\"\n",
       "    src=\"iframe_figures/figure_42.html\"\n",
       "    frameborder=\"0\"\n",
       "    allowfullscreen\n",
       "></iframe>\n"
      ]
     },
     "metadata": {},
     "output_type": "display_data"
    }
   ],
   "source": [
    "wind_speed = go.Scatter(\n",
    "    x=df.index, \n",
    "    y=df['wind_speed'], \n",
    "    mode='lines', \n",
    "    name='Wind Speed',\n",
    "    line=dict(color='purple')  \n",
    ")\n",
    "\n",
    "# Configuración del layout\n",
    "layout = go.Layout(\n",
    "    title='Velocidad del viento',\n",
    "    xaxis_title='Fecha',\n",
    "    yaxis_title='Velocidad del viento',\n",
    "    legend=dict(x=0, y=1.0),\n",
    "    margin=dict(l=80, r=80, t=40, b=40),\n",
    "    height=500,\n",
    "    width=1100,\n",
    "    )\n",
    "\n",
    "# Combina los trazos y layout\n",
    "fig = go.Figure(data=[wind_speed], layout=layout)\n",
    "\n",
    "# Visualizamos la gráfica\n",
    "pio.show(fig)"
   ]
  },
  {
   "cell_type": "code",
   "execution_count": 43,
   "id": "c37d5e3d-8843-4a6e-96dc-94e6576f8667",
   "metadata": {},
   "outputs": [
    {
     "data": {
      "text/html": [
       "<iframe\n",
       "    scrolling=\"no\"\n",
       "    width=\"1120px\"\n",
       "    height=\"520\"\n",
       "    src=\"iframe_figures/figure_43.html\"\n",
       "    frameborder=\"0\"\n",
       "    allowfullscreen\n",
       "></iframe>\n"
      ]
     },
     "metadata": {},
     "output_type": "display_data"
    }
   ],
   "source": [
    "meanpressure = go.Scatter(\n",
    "    x=df.index, \n",
    "    y=df['meanpressure'], \n",
    "    mode='lines', \n",
    "    name='Mean Pressure',\n",
    "    line=dict(color='orange')  \n",
    ")\n",
    "\n",
    "# Configuración del layout\n",
    "layout = go.Layout(\n",
    "    title='Presión media',\n",
    "    xaxis_title='Fecha',\n",
    "    yaxis_title='Presión media',\n",
    "    legend=dict(x=0, y=1.0),\n",
    "    margin=dict(l=80, r=80, t=40, b=40),\n",
    "    height=500,\n",
    "    width=1100,\n",
    ")\n",
    "\n",
    "# # Combina los trazos y layout\n",
    "fig = go.Figure(data=[meanpressure], layout=layout)\n",
    "\n",
    "# Visualizamos la gráfica\n",
    "pio.show(fig)"
   ]
  },
  {
   "cell_type": "markdown",
   "id": "16a7b97e-c938-4e52-8b75-e46e883f1493",
   "metadata": {},
   "source": [
    "## Preprocesamiento"
   ]
  },
  {
   "cell_type": "code",
   "execution_count": 24,
   "id": "1c5c55bb-71e2-4a48-af58-ddbb09684e9d",
   "metadata": {},
   "outputs": [
    {
     "data": {
      "text/plain": [
       "(1462, 1)"
      ]
     },
     "execution_count": 24,
     "metadata": {},
     "output_type": "execute_result"
    }
   ],
   "source": [
    "dataset = df[\"meantemp\"]\n",
    "df2 = pd.DataFrame(dataset)\n",
    "df2.values.shape"
   ]
  },
  {
   "cell_type": "code",
   "execution_count": 25,
   "id": "eadd769d-8218-4fce-8afd-fce9ed97d41d",
   "metadata": {},
   "outputs": [],
   "source": [
    "scaler = MinMaxScaler(feature_range=(0, 1))\n",
    "data_scaled = scaler.fit_transform(np.array(df2).reshape(-1, 1))"
   ]
  },
  {
   "cell_type": "code",
   "execution_count": 26,
   "id": "a07c6ced-1141-458d-ab3b-42ba51fabb2f",
   "metadata": {},
   "outputs": [
    {
     "name": "stdout",
     "output_type": "stream",
     "text": [
      "1096 / 366\n"
     ]
    }
   ],
   "source": [
    "train_size = int(len(data_scaled) * 0.75)\n",
    "test_size = len(df2) - train_size \n",
    "print(train_size, \"/\", test_size)"
   ]
  },
  {
   "cell_type": "code",
   "execution_count": 27,
   "id": "27c80386-cb73-4526-a323-7506ee1a5b8d",
   "metadata": {},
   "outputs": [
    {
     "data": {
      "text/plain": [
       "(1096, 1)"
      ]
     },
     "execution_count": 27,
     "metadata": {},
     "output_type": "execute_result"
    }
   ],
   "source": [
    "train_data = data_scaled[:train_size, 0:1]\n",
    "train_data.shape "
   ]
  },
  {
   "cell_type": "code",
   "execution_count": 28,
   "id": "38574b9b-aa15-4370-bcb8-661ac888de13",
   "metadata": {},
   "outputs": [],
   "source": [
    "x_train = []\n",
    "y_train = []\n",
    "\n",
    "for i in range(60, len(train_data)):\n",
    "               x_train.append(train_data[i-60:i, 0])\n",
    "               y_train.append(train_data[i, 0])\n",
    "\n",
    "x_train = np.array(x_train)\n",
    "y_train = np.array(y_train)"
   ]
  },
  {
   "cell_type": "code",
   "execution_count": 29,
   "id": "6c6c0391-8fb9-4e5a-baad-aa1f7571b70f",
   "metadata": {},
   "outputs": [],
   "source": [
    "# Reshape de la entrada a una matriz 3D [samples, time_steps, features].\n",
    "x_train = np.reshape(x_train ,(x_train.shape[0], x_train.shape[1], 1))"
   ]
  },
  {
   "cell_type": "markdown",
   "id": "88fd982d-e34e-40bd-8316-125c645be268",
   "metadata": {},
   "source": [
    "# Modelo LSTM: justificación"
   ]
  },
  {
   "cell_type": "markdown",
   "id": "7becd2ef-6f25-4de5-8ad8-1ea803756efb",
   "metadata": {},
   "source": [
    "Para predecir la temperatura, decidí usar una RNN LSTM, ya que son buenas capturando patrones a lo largo del tiempo y no sufren tanto del problema del desvanecimiento del gradiente como las RNN normales. Esto es útil porque la temperatura depende mucho de cómo ha variado antes.\n",
    "\n",
    "El modelo que usé tiene dos capas LSTM apiladas, lo que ayuda a que aprenda patrones más complejos, y al final se agregan capas densas para mejorar la predicción. Para entrenarlo, usé el optimizador Adam porque se adapta bien y no requiere muchos ajustes, además de que funciona bien con redes profundas.\n",
    "\n",
    "La función de pérdida seleccionada fue el MSE porque penaliza más los errores grandes, lo cual es importante en este tipo de regresión. También usé el MAE como métrica para tener una idea clara del error en grados."
   ]
  },
  {
   "cell_type": "code",
   "execution_count": 30,
   "id": "25d47343-cd4b-44c8-b916-716bfa09e815",
   "metadata": {},
   "outputs": [],
   "source": [
    "model = Sequential([\n",
    "    LSTM(50, return_sequences=True,input_shape = (x_train.shape[1], 1) ),\n",
    "    LSTM(64, return_sequences= False),\n",
    "    Dense(32),\n",
    "    Dense(16),\n",
    "    Dense(1)\n",
    "    \n",
    "])\n",
    "\n",
    "model.compile(optimizer= \"adam\", loss=\"mse\", metrics=[\"mean_absolute_error\"])"
   ]
  },
  {
   "cell_type": "code",
   "execution_count": 31,
   "id": "b72ef236-2c9c-42bf-ac68-69eda5b1b332",
   "metadata": {},
   "outputs": [
    {
     "name": "stdout",
     "output_type": "stream",
     "text": [
      "Model: \"sequential_1\"\n",
      "_________________________________________________________________\n",
      " Layer (type)                Output Shape              Param #   \n",
      "=================================================================\n",
      " lstm_2 (LSTM)               (None, 60, 50)            10400     \n",
      "                                                                 \n",
      " lstm_3 (LSTM)               (None, 64)                29440     \n",
      "                                                                 \n",
      " dense_3 (Dense)             (None, 32)                2080      \n",
      "                                                                 \n",
      " dense_4 (Dense)             (None, 16)                528       \n",
      "                                                                 \n",
      " dense_5 (Dense)             (None, 1)                 17        \n",
      "                                                                 \n",
      "=================================================================\n",
      "Total params: 42,465\n",
      "Trainable params: 42,465\n",
      "Non-trainable params: 0\n",
      "_________________________________________________________________\n"
     ]
    }
   ],
   "source": [
    "model.summary()"
   ]
  },
  {
   "cell_type": "code",
   "execution_count": 32,
   "id": "8cb85387-a9ac-46e4-a88f-cdd52e5b9157",
   "metadata": {},
   "outputs": [
    {
     "name": "stdout",
     "output_type": "stream",
     "text": [
      "Epoch 1/100\n",
      "33/33 [==============================] - 32s 140ms/step - loss: 0.0550 - mean_absolute_error: 0.1654\n",
      "Epoch 2/100\n",
      "33/33 [==============================] - 3s 92ms/step - loss: 0.0078 - mean_absolute_error: 0.0710\n",
      "Epoch 3/100\n",
      "33/33 [==============================] - 3s 106ms/step - loss: 0.0054 - mean_absolute_error: 0.0583\n",
      "Epoch 4/100\n",
      "33/33 [==============================] - 3s 93ms/step - loss: 0.0050 - mean_absolute_error: 0.0558\n",
      "Epoch 5/100\n",
      "33/33 [==============================] - 3s 96ms/step - loss: 0.0051 - mean_absolute_error: 0.0564\n",
      "Epoch 6/100\n",
      "33/33 [==============================] - 3s 103ms/step - loss: 0.0050 - mean_absolute_error: 0.0555\n",
      "Epoch 7/100\n",
      "33/33 [==============================] - 5s 146ms/step - loss: 0.0050 - mean_absolute_error: 0.0556\n",
      "Epoch 8/100\n",
      "33/33 [==============================] - 6s 171ms/step - loss: 0.0047 - mean_absolute_error: 0.0538\n",
      "Epoch 9/100\n",
      "33/33 [==============================] - 3s 78ms/step - loss: 0.0047 - mean_absolute_error: 0.0542\n",
      "Epoch 10/100\n",
      "33/33 [==============================] - 2s 73ms/step - loss: 0.0047 - mean_absolute_error: 0.0541\n",
      "Epoch 11/100\n",
      "33/33 [==============================] - 2s 75ms/step - loss: 0.0044 - mean_absolute_error: 0.0521\n",
      "Epoch 12/100\n",
      "33/33 [==============================] - 2s 75ms/step - loss: 0.0046 - mean_absolute_error: 0.0538\n",
      "Epoch 13/100\n",
      "33/33 [==============================] - 3s 76ms/step - loss: 0.0046 - mean_absolute_error: 0.0526\n",
      "Epoch 14/100\n",
      "33/33 [==============================] - 3s 76ms/step - loss: 0.0043 - mean_absolute_error: 0.0514\n",
      "Epoch 15/100\n",
      "33/33 [==============================] - 2s 75ms/step - loss: 0.0043 - mean_absolute_error: 0.0516\n",
      "Epoch 16/100\n",
      "33/33 [==============================] - 3s 77ms/step - loss: 0.0047 - mean_absolute_error: 0.0533\n",
      "Epoch 17/100\n",
      "33/33 [==============================] - 3s 83ms/step - loss: 0.0043 - mean_absolute_error: 0.0516\n",
      "Epoch 18/100\n",
      "33/33 [==============================] - 5s 155ms/step - loss: 0.0045 - mean_absolute_error: 0.0526\n",
      "Epoch 19/100\n",
      "33/33 [==============================] - 2s 75ms/step - loss: 0.0041 - mean_absolute_error: 0.0503\n",
      "Epoch 20/100\n",
      "33/33 [==============================] - 3s 93ms/step - loss: 0.0040 - mean_absolute_error: 0.0495\n",
      "Epoch 21/100\n",
      "33/33 [==============================] - 5s 122ms/step - loss: 0.0041 - mean_absolute_error: 0.0498\n",
      "Epoch 22/100\n",
      "33/33 [==============================] - 4s 118ms/step - loss: 0.0040 - mean_absolute_error: 0.0496\n",
      "Epoch 23/100\n",
      "33/33 [==============================] - 5s 152ms/step - loss: 0.0043 - mean_absolute_error: 0.0520\n",
      "Epoch 24/100\n",
      "33/33 [==============================] - 3s 88ms/step - loss: 0.0037 - mean_absolute_error: 0.0477\n",
      "Epoch 25/100\n",
      "33/33 [==============================] - 3s 90ms/step - loss: 0.0037 - mean_absolute_error: 0.0474\n",
      "Epoch 26/100\n",
      "33/33 [==============================] - 4s 127ms/step - loss: 0.0035 - mean_absolute_error: 0.0460\n",
      "Epoch 27/100\n",
      "33/33 [==============================] - 3s 88ms/step - loss: 0.0036 - mean_absolute_error: 0.0469\n",
      "Epoch 28/100\n",
      "33/33 [==============================] - 3s 89ms/step - loss: 0.0034 - mean_absolute_error: 0.0456\n",
      "Epoch 29/100\n",
      "33/33 [==============================] - 3s 93ms/step - loss: 0.0035 - mean_absolute_error: 0.0457\n",
      "Epoch 30/100\n",
      "33/33 [==============================] - 3s 87ms/step - loss: 0.0034 - mean_absolute_error: 0.0450\n",
      "Epoch 31/100\n",
      "33/33 [==============================] - 3s 89ms/step - loss: 0.0032 - mean_absolute_error: 0.0439\n",
      "Epoch 32/100\n",
      "33/33 [==============================] - 3s 87ms/step - loss: 0.0031 - mean_absolute_error: 0.0432\n",
      "Epoch 33/100\n",
      "33/33 [==============================] - 3s 86ms/step - loss: 0.0033 - mean_absolute_error: 0.0445\n",
      "Epoch 34/100\n",
      "33/33 [==============================] - 3s 94ms/step - loss: 0.0035 - mean_absolute_error: 0.0457\n",
      "Epoch 35/100\n",
      "33/33 [==============================] - 3s 95ms/step - loss: 0.0038 - mean_absolute_error: 0.0477\n",
      "Epoch 36/100\n",
      "33/33 [==============================] - 4s 128ms/step - loss: 0.0030 - mean_absolute_error: 0.0427\n",
      "Epoch 37/100\n",
      "33/33 [==============================] - 3s 87ms/step - loss: 0.0029 - mean_absolute_error: 0.0415\n",
      "Epoch 38/100\n",
      "33/33 [==============================] - 3s 95ms/step - loss: 0.0031 - mean_absolute_error: 0.0426\n",
      "Epoch 39/100\n",
      "33/33 [==============================] - 3s 92ms/step - loss: 0.0029 - mean_absolute_error: 0.0414\n",
      "Epoch 40/100\n",
      "33/33 [==============================] - 3s 88ms/step - loss: 0.0031 - mean_absolute_error: 0.0427\n",
      "Epoch 41/100\n",
      "33/33 [==============================] - 3s 93ms/step - loss: 0.0030 - mean_absolute_error: 0.0423\n",
      "Epoch 42/100\n",
      "33/33 [==============================] - 3s 93ms/step - loss: 0.0029 - mean_absolute_error: 0.0413\n",
      "Epoch 43/100\n",
      "33/33 [==============================] - 3s 88ms/step - loss: 0.0028 - mean_absolute_error: 0.0403\n",
      "Epoch 44/100\n",
      "33/33 [==============================] - 3s 88ms/step - loss: 0.0027 - mean_absolute_error: 0.0399\n",
      "Epoch 45/100\n",
      "33/33 [==============================] - 6s 168ms/step - loss: 0.0027 - mean_absolute_error: 0.0402\n",
      "Epoch 46/100\n",
      "33/33 [==============================] - 4s 110ms/step - loss: 0.0026 - mean_absolute_error: 0.0390\n",
      "Epoch 47/100\n",
      "33/33 [==============================] - 3s 76ms/step - loss: 0.0026 - mean_absolute_error: 0.0392\n",
      "Epoch 48/100\n",
      "33/33 [==============================] - 2s 74ms/step - loss: 0.0026 - mean_absolute_error: 0.0391\n",
      "Epoch 49/100\n",
      "33/33 [==============================] - 2s 74ms/step - loss: 0.0026 - mean_absolute_error: 0.0394\n",
      "Epoch 50/100\n",
      "33/33 [==============================] - 2s 74ms/step - loss: 0.0026 - mean_absolute_error: 0.0390\n",
      "Epoch 51/100\n",
      "33/33 [==============================] - 3s 77ms/step - loss: 0.0029 - mean_absolute_error: 0.0417\n",
      "Epoch 52/100\n",
      "33/33 [==============================] - 2s 74ms/step - loss: 0.0026 - mean_absolute_error: 0.0388\n",
      "Epoch 53/100\n",
      "33/33 [==============================] - 2s 74ms/step - loss: 0.0025 - mean_absolute_error: 0.0387\n",
      "Epoch 54/100\n",
      "33/33 [==============================] - 2s 74ms/step - loss: 0.0026 - mean_absolute_error: 0.0385\n",
      "Epoch 55/100\n",
      "33/33 [==============================] - 3s 76ms/step - loss: 0.0027 - mean_absolute_error: 0.0401\n",
      "Epoch 56/100\n",
      "33/33 [==============================] - 4s 112ms/step - loss: 0.0026 - mean_absolute_error: 0.0393\n",
      "Epoch 57/100\n",
      "33/33 [==============================] - 3s 80ms/step - loss: 0.0027 - mean_absolute_error: 0.0394\n",
      "Epoch 58/100\n",
      "33/33 [==============================] - 2s 74ms/step - loss: 0.0025 - mean_absolute_error: 0.0387\n",
      "Epoch 59/100\n",
      "33/33 [==============================] - 3s 76ms/step - loss: 0.0026 - mean_absolute_error: 0.0391\n",
      "Epoch 60/100\n",
      "33/33 [==============================] - 3s 78ms/step - loss: 0.0025 - mean_absolute_error: 0.0383\n",
      "Epoch 61/100\n",
      "33/33 [==============================] - 2s 75ms/step - loss: 0.0027 - mean_absolute_error: 0.0404\n",
      "Epoch 62/100\n",
      "33/33 [==============================] - 2s 74ms/step - loss: 0.0025 - mean_absolute_error: 0.0384\n",
      "Epoch 63/100\n",
      "33/33 [==============================] - 3s 76ms/step - loss: 0.0026 - mean_absolute_error: 0.0388\n",
      "Epoch 64/100\n",
      "33/33 [==============================] - 2s 75ms/step - loss: 0.0026 - mean_absolute_error: 0.0391\n",
      "Epoch 65/100\n",
      "33/33 [==============================] - 2s 73ms/step - loss: 0.0025 - mean_absolute_error: 0.0384\n",
      "Epoch 66/100\n",
      "33/33 [==============================] - 2s 74ms/step - loss: 0.0025 - mean_absolute_error: 0.0381\n",
      "Epoch 67/100\n",
      "33/33 [==============================] - 3s 102ms/step - loss: 0.0025 - mean_absolute_error: 0.0381\n",
      "Epoch 68/100\n",
      "33/33 [==============================] - 5s 159ms/step - loss: 0.0027 - mean_absolute_error: 0.0395\n",
      "Epoch 69/100\n",
      "33/33 [==============================] - 3s 104ms/step - loss: 0.0028 - mean_absolute_error: 0.0408\n",
      "Epoch 70/100\n",
      "33/33 [==============================] - 3s 94ms/step - loss: 0.0025 - mean_absolute_error: 0.0382\n",
      "Epoch 71/100\n",
      "33/33 [==============================] - 3s 87ms/step - loss: 0.0027 - mean_absolute_error: 0.0393\n",
      "Epoch 72/100\n",
      "33/33 [==============================] - 3s 86ms/step - loss: 0.0027 - mean_absolute_error: 0.0401\n",
      "Epoch 73/100\n",
      "33/33 [==============================] - 3s 90ms/step - loss: 0.0027 - mean_absolute_error: 0.0402\n",
      "Epoch 74/100\n",
      "33/33 [==============================] - 3s 88ms/step - loss: 0.0027 - mean_absolute_error: 0.0396\n",
      "Epoch 75/100\n",
      "33/33 [==============================] - 3s 88ms/step - loss: 0.0025 - mean_absolute_error: 0.0384\n",
      "Epoch 76/100\n",
      "33/33 [==============================] - 4s 124ms/step - loss: 0.0025 - mean_absolute_error: 0.0386\n",
      "Epoch 77/100\n",
      "33/33 [==============================] - 3s 95ms/step - loss: 0.0026 - mean_absolute_error: 0.0385\n",
      "Epoch 78/100\n",
      "33/33 [==============================] - 3s 87ms/step - loss: 0.0025 - mean_absolute_error: 0.0386\n",
      "Epoch 79/100\n",
      "33/33 [==============================] - 3s 96ms/step - loss: 0.0028 - mean_absolute_error: 0.0411\n",
      "Epoch 80/100\n",
      "33/33 [==============================] - 3s 90ms/step - loss: 0.0029 - mean_absolute_error: 0.0413\n",
      "Epoch 81/100\n",
      "33/33 [==============================] - 3s 89ms/step - loss: 0.0027 - mean_absolute_error: 0.0400\n",
      "Epoch 82/100\n",
      "33/33 [==============================] - 3s 96ms/step - loss: 0.0025 - mean_absolute_error: 0.0384\n",
      "Epoch 83/100\n",
      "33/33 [==============================] - 3s 89ms/step - loss: 0.0026 - mean_absolute_error: 0.0389\n",
      "Epoch 84/100\n",
      "33/33 [==============================] - 3s 94ms/step - loss: 0.0025 - mean_absolute_error: 0.0381\n",
      "Epoch 85/100\n",
      "33/33 [==============================] - 3s 90ms/step - loss: 0.0025 - mean_absolute_error: 0.0379\n",
      "Epoch 86/100\n",
      "33/33 [==============================] - 4s 129ms/step - loss: 0.0025 - mean_absolute_error: 0.0377\n",
      "Epoch 87/100\n",
      "33/33 [==============================] - 3s 104ms/step - loss: 0.0025 - mean_absolute_error: 0.0375\n",
      "Epoch 88/100\n",
      "33/33 [==============================] - 3s 91ms/step - loss: 0.0025 - mean_absolute_error: 0.0376\n",
      "Epoch 89/100\n",
      "33/33 [==============================] - 3s 95ms/step - loss: 0.0025 - mean_absolute_error: 0.0378\n",
      "Epoch 90/100\n",
      "33/33 [==============================] - 3s 90ms/step - loss: 0.0025 - mean_absolute_error: 0.0384\n",
      "Epoch 91/100\n",
      "33/33 [==============================] - 3s 98ms/step - loss: 0.0026 - mean_absolute_error: 0.0387\n",
      "Epoch 92/100\n",
      "33/33 [==============================] - 3s 98ms/step - loss: 0.0024 - mean_absolute_error: 0.0368\n",
      "Epoch 93/100\n",
      "33/33 [==============================] - 3s 93ms/step - loss: 0.0026 - mean_absolute_error: 0.0392\n",
      "Epoch 94/100\n",
      "33/33 [==============================] - 3s 97ms/step - loss: 0.0025 - mean_absolute_error: 0.0376\n",
      "Epoch 95/100\n",
      "33/33 [==============================] - 4s 131ms/step - loss: 0.0025 - mean_absolute_error: 0.0382\n",
      "Epoch 96/100\n",
      "33/33 [==============================] - 3s 98ms/step - loss: 0.0026 - mean_absolute_error: 0.0382\n",
      "Epoch 97/100\n",
      "33/33 [==============================] - 3s 91ms/step - loss: 0.0024 - mean_absolute_error: 0.0373\n",
      "Epoch 98/100\n",
      "33/33 [==============================] - 3s 103ms/step - loss: 0.0025 - mean_absolute_error: 0.0385\n",
      "Epoch 99/100\n",
      "33/33 [==============================] - 3s 94ms/step - loss: 0.0026 - mean_absolute_error: 0.0389\n",
      "Epoch 100/100\n",
      "33/33 [==============================] - 3s 98ms/step - loss: 0.0026 - mean_absolute_error: 0.0384\n"
     ]
    }
   ],
   "source": [
    "EarlyStopping = EarlyStopping(monitor=\"loss\", patience=15, restore_best_weights=True)\n",
    "history= model.fit(x_train, y_train, epochs=100, batch_size=32,callbacks = [EarlyStopping])"
   ]
  },
  {
   "cell_type": "code",
   "execution_count": 33,
   "id": "65c28525-3e52-4480-8701-a84f533ffdad",
   "metadata": {},
   "outputs": [
    {
     "data": {
      "image/png": "[encoded data removed]",
      "text/plain": [
       "<Figure size 1000x800 with 1 Axes>"
      ]
     },
     "metadata": {},
     "output_type": "display_data"
    }
   ],
   "source": [
    "plt.figure(figsize=(10, 8))\n",
    "plt.plot(history.history[\"loss\"])\n",
    "plt.plot(history.history[\"mean_absolute_error\"])\n",
    "plt.title(\"Costo\")\n",
    "plt.xlabel(\"Mean squared error\")\n",
    "plt.ylabel(\"Mean absolute error\")\n",
    "plt.legend([\"Mean squared error\", \"Mean absolute error\"])\n",
    "plt.show()"
   ]
  },
  {
   "cell_type": "markdown",
   "id": "ee72e083-2b1b-425c-84f3-2b1d6ae8f095",
   "metadata": {},
   "source": [
    "# Procesamos ahora el subconjunto de datos de prueba para hacer predicciones"
   ]
  },
  {
   "cell_type": "code",
   "execution_count": 34,
   "id": "1464854d-85f9-4dd6-a0e0-060eeeada6dd",
   "metadata": {},
   "outputs": [],
   "source": [
    "test_data = data_scaled[train_size - 60:, :]\n",
    "x_test = []\n",
    "y_test = []\n",
    "\n",
    "for i in range(60, len(test_data)):\n",
    "               x_test.append(test_data[i-60:i, 0])\n",
    "               y_test.append(test_data[i, 0])\n",
    "\n",
    "x_train = np.array(x_test)\n",
    "y_train = np.array(y_test)"
   ]
  },
  {
   "cell_type": "code",
   "execution_count": 35,
   "id": "ea958e4c-41b4-4f01-85c0-bc4b3e101331",
   "metadata": {},
   "outputs": [],
   "source": [
    "x_test, y_test = np.array(x_test), np.array(y_test)\n",
    "x_test = np.reshape(x_test, (x_test.shape[0], x_test.shape[1], 1))"
   ]
  },
  {
   "cell_type": "code",
   "execution_count": 36,
   "id": "3fea1309-0cc8-4471-b920-81296829574b",
   "metadata": {},
   "outputs": [
    {
     "data": {
      "text/plain": [
       "((366, 60, 1), (366,))"
      ]
     },
     "execution_count": 36,
     "metadata": {},
     "output_type": "execute_result"
    }
   ],
   "source": [
    "x_test.shape , y_test.shape"
   ]
  },
  {
   "cell_type": "code",
   "execution_count": 37,
   "id": "2a6ce1ab-302c-426f-8fd7-0985b7f3f670",
   "metadata": {},
   "outputs": [
    {
     "name": "stdout",
     "output_type": "stream",
     "text": [
      "12/12 [==============================] - 3s 24ms/step\n"
     ]
    },
    {
     "data": {
      "text/plain": [
       "(366, 1)"
      ]
     },
     "execution_count": 37,
     "metadata": {},
     "output_type": "execute_result"
    }
   ],
   "source": [
    "predictions = model.predict(x_test)\n",
    "\n",
    "predictions = scaler.inverse_transform(predictions)\n",
    "predictions.shape"
   ]
  },
  {
   "cell_type": "code",
   "execution_count": 38,
   "id": "16be213f-b6fa-4194-9f00-36d1dc28dd79",
   "metadata": {},
   "outputs": [
    {
     "data": {
      "text/plain": [
       "0.58"
      ]
     },
     "execution_count": 38,
     "metadata": {},
     "output_type": "execute_result"
    }
   ],
   "source": [
    "y_test = scaler.inverse_transform([y_test])\n",
    "\n",
    "RMSE = np.sqrt(np.mean( y_test - predictions )**2).round(2)\n",
    "RMSE"
   ]
  },
  {
   "cell_type": "code",
   "execution_count": 39,
   "id": "950f899d-9727-4c6e-bcfe-ad7e3cbcf94d",
   "metadata": {},
   "outputs": [
    {
     "data": {
      "text/html": [
       "<div>\n",
       "<style scoped>\n",
       "    .dataframe tbody tr th:only-of-type {\n",
       "        vertical-align: middle;\n",
       "    }\n",
       "\n",
       "    .dataframe tbody tr th {\n",
       "        vertical-align: top;\n",
       "    }\n",
       "\n",
       "    .dataframe thead th {\n",
       "        text-align: right;\n",
       "    }\n",
       "</style>\n",
       "<table border=\"1\" class=\"dataframe\">\n",
       "  <thead>\n",
       "    <tr style=\"text-align: right;\">\n",
       "      <th></th>\n",
       "      <th>Predicciones</th>\n",
       "      <th>Verdaderas</th>\n",
       "    </tr>\n",
       "  </thead>\n",
       "  <tbody>\n",
       "    <tr>\n",
       "      <th>0</th>\n",
       "      <td>13.952225</td>\n",
       "      <td>14.000000</td>\n",
       "    </tr>\n",
       "    <tr>\n",
       "      <th>1</th>\n",
       "      <td>13.420769</td>\n",
       "      <td>14.375000</td>\n",
       "    </tr>\n",
       "    <tr>\n",
       "      <th>2</th>\n",
       "      <td>13.473571</td>\n",
       "      <td>15.750000</td>\n",
       "    </tr>\n",
       "    <tr>\n",
       "      <th>3</th>\n",
       "      <td>14.336718</td>\n",
       "      <td>15.833333</td>\n",
       "    </tr>\n",
       "    <tr>\n",
       "      <th>4</th>\n",
       "      <td>14.665154</td>\n",
       "      <td>17.375000</td>\n",
       "    </tr>\n",
       "    <tr>\n",
       "      <th>...</th>\n",
       "      <td>...</td>\n",
       "      <td>...</td>\n",
       "    </tr>\n",
       "    <tr>\n",
       "      <th>361</th>\n",
       "      <td>16.106928</td>\n",
       "      <td>17.217391</td>\n",
       "    </tr>\n",
       "    <tr>\n",
       "      <th>362</th>\n",
       "      <td>16.373566</td>\n",
       "      <td>15.238095</td>\n",
       "    </tr>\n",
       "    <tr>\n",
       "      <th>363</th>\n",
       "      <td>15.188576</td>\n",
       "      <td>14.095238</td>\n",
       "    </tr>\n",
       "    <tr>\n",
       "      <th>364</th>\n",
       "      <td>14.121764</td>\n",
       "      <td>15.052632</td>\n",
       "    </tr>\n",
       "    <tr>\n",
       "      <th>365</th>\n",
       "      <td>14.362833</td>\n",
       "      <td>10.000000</td>\n",
       "    </tr>\n",
       "  </tbody>\n",
       "</table>\n",
       "<p>366 rows × 2 columns</p>\n",
       "</div>"
      ],
      "text/plain": [
       "     Predicciones  Verdaderas\n",
       "0       13.952225   14.000000\n",
       "1       13.420769   14.375000\n",
       "2       13.473571   15.750000\n",
       "3       14.336718   15.833333\n",
       "4       14.665154   17.375000\n",
       "..            ...         ...\n",
       "361     16.106928   17.217391\n",
       "362     16.373566   15.238095\n",
       "363     15.188576   14.095238\n",
       "364     14.121764   15.052632\n",
       "365     14.362833   10.000000\n",
       "\n",
       "[366 rows x 2 columns]"
      ]
     },
     "execution_count": 39,
     "metadata": {},
     "output_type": "execute_result"
    }
   ],
   "source": [
    "preds_acts = pd.DataFrame(data={'Predicciones':predictions.flatten(), 'Verdaderas':y_test.flatten()})\n",
    "preds_acts"
   ]
  },
  {
   "cell_type": "code",
   "execution_count": 40,
   "id": "ec91802d-b66f-4288-8fb1-57f5dba36257",
   "metadata": {},
   "outputs": [],
   "source": [
    "y_train_flattened = y_train.flatten()\n",
    "\n",
    "# Creamos un DataFrame con 'train' como nombre de columna\n",
    "train = pd.DataFrame(data=y_train_flattened, columns=['train'])"
   ]
  },
  {
   "cell_type": "code",
   "execution_count": 41,
   "id": "6753c803-e546-4491-86d5-bfd00787b139",
   "metadata": {},
   "outputs": [
    {
     "data": {
      "image/png": "[encoded data removed]",
      "text/plain": [
       "<Figure size 1000x800 with 1 Axes>"
      ]
     },
     "metadata": {},
     "output_type": "display_data"
    }
   ],
   "source": [
    "# Visualizamos las predicciones\n",
    "plt.figure(figsize=(10, 8))\n",
    "plt.plot(preds_acts[\"Predicciones\"])\n",
    "plt.plot(preds_acts[\"Verdaderas\"])\n",
    "plt.title(\"Predicción Climática\")\n",
    "plt.xlabel(\"Predicciones\")\n",
    "plt.ylabel(\"Verdaderas\")\n",
    "plt.legend([\"Predicciones\", \"Verdaderas\"])\n",
    "plt.show()"
   ]
  },
  {
   "cell_type": "markdown",
   "id": "27e753ac-1fad-45a6-91f4-f024f9ed6b0a",
   "metadata": {},
   "source": [
    "### Observamos gráficamente que las predicciones son muy cercanas al valor verdadero. Esto confirma que la arquitectura LSTM usando con el optimizador ADAM y la función de costo MSE fueron correctamente elegidas para este modelo de predicción."
   ]
  }
 ],
 "metadata": {
  "kernelspec": {
   "display_name": "Python 3 (ipykernel)",
   "language": "python",
   "name": "python3"
  },
  "language_info": {
   "codemirror_mode": {
    "name": "ipython",
    "version": 3
   },
   "file_extension": ".py",
   "mimetype": "text/x-python",
   "name": "python",
   "nbconvert_exporter": "python",
   "pygments_lexer": "ipython3",
   "version": "3.10.13"
  }
 },
 "nbformat": 4,
 "nbformat_minor": 5
}
